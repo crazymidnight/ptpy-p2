{
 "cells": [
  {
   "cell_type": "markdown",
   "metadata": {},
   "source": [
    "![](_static/cmpl-scripts.png)"
   ]
  },
  {
   "cell_type": "markdown",
   "metadata": {},
   "source": [
    "Задача. \n",
    "В пакет scripts проекта добавляются новые скрипты, которые реализуют бизнесс-логику.  \n",
    "Из модуля main последовательно запускуются функции во всех модулях которые лежат в пакете scripts. \n",
    "* Наличие или остутвие какого-либо скрипта ника не влияет на работоспособность остальной программы\n",
    "* Остальная программа знает только про то что есть директория scripts и всё что в ней есть надо запустить"
   ]
  },
  {
   "cell_type": "markdown",
   "metadata": {},
   "source": [
    "### 3.1 Об обостях видимости (scope)\n",
    "Некоторые конструкции можно использовать всегда и везде, на любом этапа выполнения в любой программе например `str`, тогда говорят, что что-то определено в глобальной области видимости. (global scope)"
   ]
  },
  {
   "cell_type": "code",
   "execution_count": 1,
   "metadata": {
    "collapsed": false
   },
   "outputs": [
    {
     "data": {
      "text/plain": [
       "str"
      ]
     },
     "execution_count": 1,
     "metadata": {},
     "output_type": "execute_result"
    }
   ],
   "source": [
    "str"
   ]
  },
  {
   "cell_type": "code",
   "execution_count": 2,
   "metadata": {
    "collapsed": false
   },
   "outputs": [
    {
     "data": {
      "text/plain": [
       "<function sorted>"
      ]
     },
     "execution_count": 2,
     "metadata": {},
     "output_type": "execute_result"
    }
   ],
   "source": [
    "sorted"
   ]
  },
  {
   "cell_type": "markdown",
   "metadata": {},
   "source": [
    "Другие объекты должны быть явно определны. Это онзначает вызов конструкций, которые свяжут объект с текущей (локальной) облсатью видимости. "
   ]
  },
  {
   "cell_type": "code",
   "execution_count": 3,
   "metadata": {
    "collapsed": false,
    "scrolled": true
   },
   "outputs": [
    {
     "ename": "NameError",
     "evalue": "name 'foo' is not defined",
     "output_type": "error",
     "traceback": [
      "\u001b[0;31m---------------------------------------------------------------------------\u001b[0m",
      "\u001b[0;31mNameError\u001b[0m                                 Traceback (most recent call last)",
      "\u001b[0;32m<ipython-input-3-d3b07384d113>\u001b[0m in \u001b[0;36m<module>\u001b[0;34m()\u001b[0m\n\u001b[0;32m----> 1\u001b[0;31m \u001b[0mfoo\u001b[0m\u001b[0;34m\u001b[0m\u001b[0m\n\u001b[0m",
      "\u001b[0;31mNameError\u001b[0m: name 'foo' is not defined"
     ]
    }
   ],
   "source": [
    "foo"
   ]
  },
  {
   "cell_type": "code",
   "execution_count": 4,
   "metadata": {
    "collapsed": false
   },
   "outputs": [
    {
     "data": {
      "text/plain": [
       "'bar'"
      ]
     },
     "execution_count": 4,
     "metadata": {},
     "output_type": "execute_result"
    }
   ],
   "source": [
    "foo = 'bar'\n",
    "foo"
   ]
  },
  {
   "cell_type": "markdown",
   "metadata": {},
   "source": [
    "Локальную область видиомсти можно посмотреть с помощью функции locals() глобальную с помощью функции globals(), фукнции, классы и модули обладают собственными локальными облостями видимости. Объект доступен если он существует в локально области видимости или в области видимости уровнем выше (enclosing scope)"
   ]
  },
  {
   "cell_type": "markdown",
   "metadata": {},
   "source": [
    "### Когда мы делаем import в python, что происходит\n",
    "Код в проектах на python организован с помощью модулей (в большинстве случаев `*.py` файлы) и пакетов - директорий содержащих специальный файл `__init__.py` и опционально модули. Всё это загружается с помощью конструкции import. \n",
    "Но что происходит когда её используем? "
   ]
  },
  {
   "cell_type": "code",
   "execution_count": 5,
   "metadata": {
    "collapsed": false
   },
   "outputs": [
    {
     "data": {
      "text/plain": [
       "{'In': ['', 'str', 'sorted', 'foo', \"foo = 'bar'\\nfoo\", 'locals()'],\n",
       " 'Out': {1: str, 2: <function sorted>, 4: 'bar'},\n",
       " '_': 'bar',\n",
       " '_1': str,\n",
       " '_2': <function sorted>,\n",
       " '_4': 'bar',\n",
       " '__': <function sorted>,\n",
       " '___': str,\n",
       " '__builtin__': <module 'builtins' (built-in)>,\n",
       " '__builtins__': <module 'builtins' (built-in)>,\n",
       " '__doc__': 'Automatically created module for IPython interactive environment',\n",
       " '__loader__': None,\n",
       " '__name__': '__main__',\n",
       " '__package__': None,\n",
       " '__spec__': None,\n",
       " '_dh': ['/var/www/jupyter/prod/cmpl/ptpy-part2'],\n",
       " '_i': \"foo = 'bar'\\nfoo\",\n",
       " '_i1': 'str',\n",
       " '_i2': 'sorted',\n",
       " '_i3': 'foo',\n",
       " '_i4': \"foo = 'bar'\\nfoo\",\n",
       " '_i5': 'locals()',\n",
       " '_ih': ['', 'str', 'sorted', 'foo', \"foo = 'bar'\\nfoo\", 'locals()'],\n",
       " '_ii': 'foo',\n",
       " '_iii': 'sorted',\n",
       " '_oh': {1: str, 2: <function sorted>, 4: 'bar'},\n",
       " '_sh': <module 'IPython.core.shadowns' from '/var/www/jupyter/prod3/lib/python3.4/site-packages/IPython/core/shadowns.py'>,\n",
       " 'exit': <IPython.core.autocall.ZMQExitAutocall at 0x7f2692b505f8>,\n",
       " 'foo': 'bar',\n",
       " 'get_ipython': <bound method ZMQInteractiveShell.get_ipython of <ipykernel.zmqshell.ZMQInteractiveShell object at 0x7f2696d38f28>>,\n",
       " 'quit': <IPython.core.autocall.ZMQExitAutocall at 0x7f2692b505f8>}"
      ]
     },
     "execution_count": 5,
     "metadata": {},
     "output_type": "execute_result"
    }
   ],
   "source": [
    "locals()"
   ]
  },
  {
   "cell_type": "code",
   "execution_count": 6,
   "metadata": {
    "collapsed": true
   },
   "outputs": [],
   "source": [
    "import sys"
   ]
  },
  {
   "cell_type": "code",
   "execution_count": 7,
   "metadata": {
    "collapsed": false
   },
   "outputs": [
    {
     "data": {
      "text/plain": [
       "{'In': ['',\n",
       "  'str',\n",
       "  'sorted',\n",
       "  'foo',\n",
       "  \"foo = 'bar'\\nfoo\",\n",
       "  'locals()',\n",
       "  'import sys',\n",
       "  'locals()'],\n",
       " 'Out': {1: str, 2: <function sorted>, 4: 'bar', 5: {...}},\n",
       " '_': {...},\n",
       " '_1': str,\n",
       " '_2': <function sorted>,\n",
       " '_4': 'bar',\n",
       " '_5': {...},\n",
       " '__': 'bar',\n",
       " '___': <function sorted>,\n",
       " '__builtin__': <module 'builtins' (built-in)>,\n",
       " '__builtins__': <module 'builtins' (built-in)>,\n",
       " '__doc__': 'Automatically created module for IPython interactive environment',\n",
       " '__loader__': None,\n",
       " '__name__': '__main__',\n",
       " '__package__': None,\n",
       " '__spec__': None,\n",
       " '_dh': ['/var/www/jupyter/prod/cmpl/ptpy-part2'],\n",
       " '_i': 'import sys',\n",
       " '_i1': 'str',\n",
       " '_i2': 'sorted',\n",
       " '_i3': 'foo',\n",
       " '_i4': \"foo = 'bar'\\nfoo\",\n",
       " '_i5': 'locals()',\n",
       " '_i6': 'import sys',\n",
       " '_i7': 'locals()',\n",
       " '_ih': ['',\n",
       "  'str',\n",
       "  'sorted',\n",
       "  'foo',\n",
       "  \"foo = 'bar'\\nfoo\",\n",
       "  'locals()',\n",
       "  'import sys',\n",
       "  'locals()'],\n",
       " '_ii': 'locals()',\n",
       " '_iii': \"foo = 'bar'\\nfoo\",\n",
       " '_oh': {1: str, 2: <function sorted>, 4: 'bar', 5: {...}},\n",
       " '_sh': <module 'IPython.core.shadowns' from '/var/www/jupyter/prod3/lib/python3.4/site-packages/IPython/core/shadowns.py'>,\n",
       " 'exit': <IPython.core.autocall.ZMQExitAutocall at 0x7f2692b505f8>,\n",
       " 'foo': 'bar',\n",
       " 'get_ipython': <bound method ZMQInteractiveShell.get_ipython of <ipykernel.zmqshell.ZMQInteractiveShell object at 0x7f2696d38f28>>,\n",
       " 'quit': <IPython.core.autocall.ZMQExitAutocall at 0x7f2692b505f8>,\n",
       " 'sys': <module 'sys' (built-in)>}"
      ]
     },
     "execution_count": 7,
     "metadata": {},
     "output_type": "execute_result"
    }
   ],
   "source": [
    "locals()"
   ]
  },
  {
   "cell_type": "markdown",
   "metadata": {},
   "source": [
    "Как и с большинством конструкций которые есть в python, есть специальная функция `__import__` которая отвечает за эту механику. "
   ]
  },
  {
   "cell_type": "code",
   "execution_count": 8,
   "metadata": {
    "collapsed": false
   },
   "outputs": [
    {
     "name": "stdout",
     "output_type": "stream",
     "text": [
      "Help on built-in function __import__ in module builtins:\n",
      "\n",
      "__import__(...)\n",
      "    __import__(name, globals=None, locals=None, fromlist=(), level=0) -> module\n",
      "    \n",
      "    Import a module. Because this function is meant for use by the Python\n",
      "    interpreter and not for general use it is better to use\n",
      "    importlib.import_module() to programmatically import a module.\n",
      "    \n",
      "    The globals argument is only used to determine the context;\n",
      "    they are not modified.  The locals argument is unused.  The fromlist\n",
      "    should be a list of names to emulate ``from name import ...'', or an\n",
      "    empty list to emulate ``import name''.\n",
      "    When importing a module from a package, note that __import__('A.B', ...)\n",
      "    returns package A when fromlist is empty, but its submodule B when\n",
      "    fromlist is not empty.  Level is used to determine whether to perform \n",
      "    absolute or relative imports. 0 is absolute while a positive number\n",
      "    is the number of parent directories to search relative to the current module.\n",
      "\n"
     ]
    }
   ],
   "source": [
    "help(__import__)"
   ]
  },
  {
   "cell_type": "markdown",
   "metadata": {},
   "source": [
    "Конструкция import производит поиск модуля по названию и в случае если она его находит, она его загружает и связывает с локально областью видимости. В случае функции `__import__` связывания не происходит.  "
   ]
  },
  {
   "cell_type": "code",
   "execution_count": 9,
   "metadata": {
    "collapsed": false
   },
   "outputs": [
    {
     "data": {
      "text/plain": [
       "<module 'datetime' from '/usr/lib/python3.4/datetime.py'>"
      ]
     },
     "execution_count": 9,
     "metadata": {},
     "output_type": "execute_result"
    }
   ],
   "source": [
    "__import__('datetime') # связывания с локальным скопом не происходит, но модуль есть вот он"
   ]
  },
  {
   "cell_type": "code",
   "execution_count": 10,
   "metadata": {
    "collapsed": false
   },
   "outputs": [
    {
     "ename": "NameError",
     "evalue": "name 'datetime' is not defined",
     "output_type": "error",
     "traceback": [
      "\u001b[0;31m---------------------------------------------------------------------------\u001b[0m",
      "\u001b[0;31mNameError\u001b[0m                                 Traceback (most recent call last)",
      "\u001b[0;32m<ipython-input-10-6bab1f09a740>\u001b[0m in \u001b[0;36m<module>\u001b[0;34m()\u001b[0m\n\u001b[0;32m----> 1\u001b[0;31m \u001b[0mdatetime\u001b[0m\u001b[0;34m\u001b[0m\u001b[0m\n\u001b[0m",
      "\u001b[0;31mNameError\u001b[0m: name 'datetime' is not defined"
     ]
    }
   ],
   "source": [
    "datetime"
   ]
  },
  {
   "cell_type": "code",
   "execution_count": 11,
   "metadata": {
    "collapsed": false
   },
   "outputs": [
    {
     "data": {
      "text/plain": [
       "<module 'datetime' from '/usr/lib/python3.4/datetime.py'>"
      ]
     },
     "execution_count": 11,
     "metadata": {},
     "output_type": "execute_result"
    }
   ],
   "source": [
    "import datetime\n",
    "datetime"
   ]
  },
  {
   "cell_type": "markdown",
   "metadata": {},
   "source": [
    "В словаре sys.modules создеждатся пары ключ значение для всех модулей котоыре когда-либо были загружены."
   ]
  },
  {
   "cell_type": "code",
   "execution_count": 12,
   "metadata": {
    "collapsed": false
   },
   "outputs": [
    {
     "data": {
      "text/plain": [
       "dict_keys(['ipykernel._version', 'ipykernel.zmqshell', 'pkg_resources._vendor', 'jupyter_client.client', 'imp', 'copyreg', 'code', 'IPython.utils.openpy', '_lsprof', 'IPython.terminal.embed', 'IPython.core.magics.extension', '_json', 'prompt_toolkit.styles', 'tokenize', 'faulthandler', 'prompt_toolkit.filters.cli', 'prompt_toolkit.layout.processors', 'pkg_resources.extern.packaging._structures', 'IPython.core.magics.basic', 'html', 'decorator', 'zipfile', 'IPython.lib.clipboard', 'IPython.utils._process_common', 'zmq.utils', 'IPython.utils.tempdir', 'zmq.utils.strtypes', 'email.header', 'IPython.core.magics.script', 'prompt_toolkit.layout', 'IPython.core.oinspect', 'cProfile', 'IPython.testing.skipdoctest', 'hashlib', 'zmq.utils.constant_names', 'struct', 'prompt_toolkit.search_state', 'mimetypes', '_bz2', 'codeop', 'IPython.utils.generics', 'tornado.log', 'IPython.utils', 'jupyter_client.jsonutil', 'IPython.core.magics.osm', 'IPython.core.usage', 'json.decoder', 'pygments.formatters._mapping', 'pygments.lexers._mapping', 'zmq.eventloop.ioloop', '__future__', '__mp_main__', 'pexpect.utils', 'IPython.core.display', 'IPython.utils.tokenize2', 'prompt_toolkit.eventloop.callbacks', 'encodings.aliases', 'IPython.extensions', 'logging', 'IPython.core.magics.pylab', 'ipykernel.codeutil', 'tornado.ioloop', 'pexpect.exceptions', 'prompt_toolkit', 'prompt_toolkit.key_binding.digraphs', 'IPython.lib.display', 'prompt_toolkit.eventloop', 'tornado.platform.auto', '_functools', 'prompt_toolkit.filters.types', '_warnings', 'ipython_genutils.text', 'bisect', '_opcode', 'ipython_genutils._version', 'urllib', '_operator', 'ipykernel.jsonutil', 'pygments.styles', 'subprocess', 'ptyprocess.util', 'IPython.terminal.pt_inputhooks', 'ntpath', 'sitecustomize', 'prompt_toolkit.layout.menus', 'prompt_toolkit.completion', 'IPython.utils.PyColorize', 'zmq.sugar.tracker', 'ipykernel.iostream', 'IPython.utils.process', '_io', 'pygments.styles.default', 'pygments.lexers', 'IPython.utils.path', 'jupyter_client.connect', 'prompt_toolkit.layout.utils', 'IPython.core.completer', 'ipython_genutils.encoding', 'pty', 'prompt_toolkit.key_binding.bindings.basic', '_strptime', 'ipykernel', 'gc', '_ast', 'pygments.style', 'concurrent.futures._base', 'optparse', 'IPython.utils.signatures', 'IPython.utils.terminal', 'ipykernel.displayhook', 'prompt_toolkit.document', 'pygments.lexer', 'IPython.core', 'IPython.terminal.shortcuts', 'prompt_toolkit.layout.controls', '_weakref', 'IPython.utils.contexts', 'IPython', 'email.parser', 'stat', 'IPython.core.magics.namespace', 'six.moves', 'math', 'atexit', 'jupyter_client.kernelspec', 'genericpath', 'jupyter_client.multikernelmanager', '_bisect', 'os.path', 'prompt_toolkit.key_binding', 'IPython.utils.ipstruct', 'jupyter_core.paths', 'posix', 'IPython.utils._tokenize_py3', 'pygments.formatters.html', 'termios', 'prompt_toolkit.key_binding.bindings', 'pygments.util', 'IPython.core.formatters', 'multiprocessing.context', 'ptyprocess', 'copy', 'importlib.util', 'glob', 'jupyter_client.blocking', 'IPython.core.debugger', 'IPython.utils.ulinecache', 'prompt_toolkit.styles.base', 'prompt_toolkit.buffer', 'traitlets.config.configurable', 'getpass', 'IPython.core.magics', 'pkg_resources.extern', 'prompt_toolkit.layout.containers', 'datetime', 'zmq.backend.cython.error', 'shlex', '_weakrefset', '_ctypes', 'IPython.testing', 'multiprocessing.reduction', 'IPython.utils._sysinfo', 'sqlite3.dbapi2', 'email.errors', 'jupyter_client.managerabc', 'importlib._bootstrap', 'pdb', 'tempfile', 'prompt_toolkit.key_binding.manager', 'IPython.core.shadowns', 'zmq.backend.cython.constants', 'pygments.filter', 'multiprocessing.connection', 'socket', 'concurrent.futures.thread', 'prompt_toolkit.reactive', 'zmq.sugar.poll', 'zmq.backend.cython.socket', 'IPython.utils.coloransi', 'prompt_toolkit.token', 'tornado.escape', 'prompt_toolkit.key_binding.input_processor', 'marshal', '_multiprocessing', 'ipykernel.serialize', 'ipykernel.comm.manager', 'pkg_resources._vendor.six', 'numbers', 'pkg_resources._vendor.packaging.__about__', 'ipython_genutils.importstring', 'json.scanner', 'prompt_toolkit.layout.lexers', 'IPython.utils.text', 'ctypes', 'sys', 'pygments', 'prompt_toolkit.shortcuts', 'prompt_toolkit.filters', 'IPython.core.alias', 'jupyter_client.channels', 'prompt_toolkit.layout.margins', '_sre', 'locale', 'json.encoder', 'prompt_toolkit.selection', 'threading', 'IPython.utils.colorable', 'wcwidth.table_wide', 'IPython.utils.wildcard', '_pickle', '_curses', 'tty', 'pkg_resources.extern.packaging.requirements', 'IPython.lib.deepreload', 'prompt_toolkit.clipboard', 'pkg_resources.extern.packaging._compat', 're', 'resource', 'bz2', 'email.charset', 'zlib', 'traitlets.config.application', 'traitlets.utils.getargspec', 'tornado.concurrent', 'logging.handlers', 'IPython.lib.backgroundjobs', 'jupyter_client.clientabc', 'prompt_toolkit.clipboard.in_memory', 'ast', 'errno', 'multiprocessing.process', 'operator', 'wcwidth.wcwidth', 'binascii', 'encodings.latin_1', 'ipython_genutils.path', 'wcwidth', 'tornado.platform', 'prompt_toolkit.key_binding.bindings.completion', 'prompt_toolkit.filters.base', 'prompt_toolkit.styles.utils', 'jupyter_client', 'grp', 'zmq.sugar.attrsettr', 'IPython.core.magic_arguments', 'pydoc', 'xml.parsers', 'IPython.terminal.magics', 'IPython.core.displayhook', 'IPython.core.history', 'traitlets.utils.sentinel', 'zmq.sugar.constants', 'shutil', 'IPython.utils._process_posix', 'IPython.core.hooks', 'jupyter_client.blocking.channels', 'tornado', 'ipykernel.kernelbase', 'prompt_toolkit.layout.mouse_handlers', 'IPython.core.error', 'email', 'IPython.terminal.ipapp', '_bootlocale', 'pygments.filters', 'ipykernel.pickleutil', 'ipykernel.heartbeat', 'ipykernel.comm.comm', 'concurrent.futures', 'IPython.core.profiledir', 'IPython.core.magics.logging', 'IPython.core.magics.display', 'reprlib', 'email.feedparser', 'prompt_toolkit.auto_suggest', 'zmq.utils.jsonapi', 'ipykernel.parentpoller', 'functools', 'IPython.core.magics.code', 'IPython.core.page', 'zmq.backend.cython.utils', 'IPython.core.ultratb', '_heapq', 'IPython.core.completerlib', 'IPython.core.excolors', 'calendar', 'jupyter_core.version', 'random', 'traitlets.log', 'pygments.formatters', 'pexpect.pty_spawn', 'collections.abc', 'zmq.backend.cython._version', 'IPython.extensions.storemagic', 'concurrent.futures.process', 'encodings', 'ipykernel.connect', 'IPython.core.release', 'gettext', 'prompt_toolkit.layout.prompt', 'email.iterators', 'ipython_genutils', 'xml.parsers.expat.model', 'zmq.backend.select', 'IPython.core.latex_symbols', '_stat', 'traitlets.config.loader', 'pprint', 'builtins', 'traitlets._version', 'IPython.core.macro', 'pkg_resources.extern.pyparsing', 'IPython.utils.frame', 'IPython.core.magics.history', 'prompt_toolkit.output', 'prompt_toolkit.styles.defaults', 'getopt', 'uuid', 'pyexpat.model', 'prompt_toolkit.layout.dimension', 'codecs', 'IPython.core.logger', 'opcode', 'IPython.utils.timing', 'wcwidth.table_zero', 'token', 'pygments.lexers.python', 'pygments.modeline', 'IPython.core.inputtransformer', 'IPython.utils.strdispatch', 'IPython.utils.sysinfo', 'IPython.core.splitinput', 'itertools', 'IPython.lib', 'profile', 'prompt_toolkit.clipboard.base', 'weakref', 'fnmatch', 'unicodedata', 'argparse', 'posixpath', 'textwrap', 'encodings.utf_8', 'IPython.display', 'enum', 'prompt_toolkit.history', 'selectors', 'zmq', '_hashlib', 'IPython.utils.encoding', 'sqlite3', 'traitlets.utils.importstring', 'ctypes.util', 'IPython.terminal.ptutils', 'email._parseaddr', 'zmq.sugar.socket', 'pexpect.spawnbase', 'IPython.utils.py3compat', 'prompt_toolkit.key_binding.bindings.utils', 'IPython.utils.syspathcontext', 'pkg_resources', 'site', 'pygments.regexopt', 'dis', 'pwd', 'traitlets', 'email.base64mime', '_collections_abc', 'ptyprocess.ptyprocess', 'zmq.libzmq', '_random', 'traitlets.utils', '_collections', 'IPython.paths', 'pygments.formatter', 'six', 'array', 'prompt_toolkit.key_binding.bindings.named_commands', 'zmq.sugar', 'tornado.stack_context', 'ipykernel.datapub', 'tornado.platform.posix', 'prompt_toolkit.eventloop.base', 'jupyter_client.launcher', 'traitlets.traitlets', 'IPython.utils.decorators', 'prompt_toolkit.key_binding.bindings.vi', 'jupyter_client.localinterfaces', 'pkg_resources._vendor.six.moves', 'IPython.utils.capture', 'ipython_genutils.py3compat', 'IPython.core.compilerop', 'pathlib', 'zmq.sugar.context', 'jupyter_client.blocking.client', 'pexpect.expect', 'pkg_resources.extern.packaging.markers', 'IPython.core.payload', 'pygments.unistring', '_string', 'xml.parsers.expat', 'email.message', 'zmq.backend.cython', 'cmd', 'pkg_resources.extern.appdirs', 'IPython.utils.module_paths', 'hmac', 'ipykernel.kernelapp', 'zmq.backend.cython._poll', 'traceback', 'jupyter_client.manager', 'IPython.core.prefilter', '_imp', 'linecache', 'IPython.core.events', 'zipimport', 'IPython.core.magics.auto', 'fcntl', 'prompt_toolkit.application', 'abc', 'inspect', 'keyword', 'prompt_toolkit.terminal', 'IPython.core.magic', 'sre_compile', 'pygments.token', 'string', 'zmq.error', 'importlib', 'concurrent', 'zmq.backend.cython.context', 'prompt_toolkit.key_binding.bindings.emacs', 'pkg_resources.extern.six', '_codecs', 'sre_constants', 'IPython.core.magics.config', '_thread', 'jupyter_client.adapter', 'jupyter_core', '_locale', 'prompt_toolkit.styles.from_pygments', 'prompt_toolkit.layout.screen', 'os', 'IPython.utils.io', 'zmq.backend.cython._device', 'prompt_toolkit.styles.from_dict', 'bdb', 'prompt_toolkit.interface', 'prompt_toolkit.key_binding.registry', 'IPython.utils.sentinel', 'prompt_toolkit.utils', 'IPython.core.display_trap', 'prompt_toolkit.terminal.vt100_input', 'html.entities', 'xml', 'storemagic', 'pyexpat.errors', 'sre_parse', '_lzma', 'prompt_toolkit.enums', 'pickleshare', 'plistlib', 'IPython.core.extensions', '_sqlite3', 'io', 'uu', 'warnings', 'prompt_toolkit.validation', 'jupyter_client._version', 'pyexpat', 'lzma', 'collections', 'IPython.core.displaypub', 'ipykernel.comm', 'queue', 'urllib.parse', 'multiprocessing.util', 'email._policybase', 'xml.parsers.expat.errors', 'email.quoprimime', 'prompt_toolkit.key_binding.bindings.scroll', 'jupyter_client.channelsabc', 'IPython.core.pylabtools', 'IPython.core.application', 'IPython.core.autocall', 'IPython.core.magics.execution', 'importlib.machinery', 'tornado.util', 'IPython.utils.dir2', 'email.encoders', 'simplegeneric', 'base64', 'curses', 'IPython.utils.tokenutil', 'zmq.backend', 'pexpect.run', 'signal', '__main__', 'prompt_toolkit.renderer', 'quopri', 'prompt_toolkit.mouse_events', 'multiprocessing', 'ctypes._endian', 'pkg_resources.extern.packaging.specifiers', 'contextlib', 'pkg_resources.extern.packaging', 'zmq.backend.cython.message', 'IPython.core.crashhandler', 'pkg_resources.extern.packaging.version', 'ipykernel.ipkernel', 'zmq.eventloop', 'types', 'pstats', 'timeit', 'IPython.utils.importstring', 'pygments.plugin', '_socket', 'pkgutil', 'prompt_toolkit.filters.utils', 'IPython.core.payloadpage', 'IPython.lib.security', 'pkg_resources.extern.six.moves', 'IPython.lib.pretty', 'tornado.platform.interface', 'heapq', 'prompt_toolkit.layout.toolbars', 'traitlets.utils.bunch', 'prompt_toolkit.input', 'sysconfig', 'IPython.core.inputsplitter', 'time', 'IPython.core.getipython', 'email._encoded_words', 'prompt_toolkit.keys', 'prompt_toolkit.key_binding.vi_state', '_frozen_importlib', 'platform', 'pexpect', 'IPython.utils.data', 'traitlets.config', '_posixsubprocess', '_compat_pickle', 'jupyter_client.session', 'IPython.core.shellapp', 'IPython.terminal', 'IPython.terminal.prompts', 'IPython.core.builtin_trap', 'tarfile', 'tornado.speedups', 'prompt_toolkit.cache', 'pkg_resources.extern.six.moves.urllib', '_datetime', 'runpy', 'IPython.terminal.debugger', 'zmq.sugar.frame', 'json', 'zmq.sugar.version', 'email.utils', 'zmq.eventloop.zmqstream', 'pickle', 'IPython.core.interactiveshell', 'prompt_toolkit.buffer_mapping', 'select', 'IPython.terminal.interactiveshell', 'prompt_toolkit.terminal.vt100_output', '_struct'])"
      ]
     },
     "execution_count": 12,
     "metadata": {},
     "output_type": "execute_result"
    }
   ],
   "source": [
    "sys.modules.keys()"
   ]
  },
  {
   "cell_type": "markdown",
   "metadata": {},
   "source": [
    "### Поиск модуля"
   ]
  },
  {
   "cell_type": "markdown",
   "metadata": {},
   "source": [
    "Если импотртируется модуль testmod то интерпритатор ищет:\n",
    "    1. Встроениый (builtin) модуль с таким названием\n",
    "    2. Потом ищет файл с названием testmod.py в директории где находится импортирующий скрипт\n",
    "    3. И далее по sys.path"
   ]
  },
  {
   "cell_type": "code",
   "execution_count": 13,
   "metadata": {
    "collapsed": false
   },
   "outputs": [
    {
     "name": "stdout",
     "output_type": "stream",
     "text": [
      "['', '/var/www/jupyter/prod3/lib/python3.4', '/var/www/jupyter/prod3/lib/python3.4/plat-x86_64-linux-gnu', '/var/www/jupyter/prod3/lib/python3.4/lib-dynload', '/usr/lib/python3.4', '/usr/lib/python3.4/plat-x86_64-linux-gnu', '/var/www/jupyter/prod3/lib/python3.4/site-packages', '/var/www/jupyter/prod3/lib/python3.4/site-packages/IPython/extensions', '/var/www/jupyter/.ipython']\n"
     ]
    }
   ],
   "source": [
    "import sys\n",
    "print(sys.path)"
   ]
  },
  {
   "cell_type": "markdown",
   "metadata": {},
   "source": [
    "### Загрузка модуля\n",
    "При загрузке модуля будет выполнено всё, что определно на уровне модуля."
   ]
  },
  {
   "cell_type": "code",
   "execution_count": 13,
   "metadata": {
    "collapsed": false
   },
   "outputs": [
    {
     "name": "stdout",
     "output_type": "stream",
     "text": [
      "Hi I'm test module\n",
      "I'm called\n"
     ]
    }
   ],
   "source": [
    "import testmod"
   ]
  },
  {
   "cell_type": "code",
   "execution_count": 14,
   "metadata": {
    "collapsed": true
   },
   "outputs": [],
   "source": [
    "import testmod"
   ]
  },
  {
   "cell_type": "code",
   "execution_count": 15,
   "metadata": {
    "collapsed": true
   },
   "outputs": [],
   "source": [
    "from testmod import mistake"
   ]
  },
  {
   "cell_type": "code",
   "execution_count": 16,
   "metadata": {
    "collapsed": true
   },
   "outputs": [],
   "source": [
    "import testmod as test"
   ]
  },
  {
   "cell_type": "code",
   "execution_count": 17,
   "metadata": {
    "collapsed": false
   },
   "outputs": [
    {
     "name": "stdout",
     "output_type": "stream",
     "text": [
      "[]\n"
     ]
    },
    {
     "data": {
      "text/plain": [
       "[]"
      ]
     },
     "execution_count": 17,
     "metadata": {},
     "output_type": "execute_result"
    }
   ],
   "source": [
    "res = mistake()\n",
    "res"
   ]
  },
  {
   "cell_type": "code",
   "execution_count": 20,
   "metadata": {
    "collapsed": true
   },
   "outputs": [],
   "source": [
    "res.append(1)"
   ]
  },
  {
   "cell_type": "code",
   "execution_count": 21,
   "metadata": {
    "collapsed": false
   },
   "outputs": [
    {
     "name": "stdout",
     "output_type": "stream",
     "text": [
      "[1, 1]\n"
     ]
    },
    {
     "data": {
      "text/plain": [
       "[1, 1]"
      ]
     },
     "execution_count": 21,
     "metadata": {},
     "output_type": "execute_result"
    }
   ],
   "source": [
    "mistake()"
   ]
  },
  {
   "cell_type": "markdown",
   "metadata": {},
   "source": [
    "### PyPattern: Создание единственного инстанса\n",
    "Иногда требуется, чтобы в рамках всей программы был создан и существовал только один инастанс чего либо. Пример из нашей программы \n",
    "* Конфигурационный файл, один раз считать везде использовать.\n",
    "* Покдлючение к базе данных  \n",
    "Есть два неплохих способа делать это. \n",
    "1. Явная передача аргументом функции i.e. `myscript.main(db, config, *kwargs):`\n",
    "2. Сделать отдельным модулем и воспользоваться механикой работы модулей в python"
   ]
  },
  {
   "cell_type": "code",
   "execution_count": 23,
   "metadata": {
    "collapsed": true
   },
   "outputs": [],
   "source": [
    "import json\n",
    "\n",
    "\n",
    "_config = None # Подчеркивание - защиенные данные\n",
    "\n",
    "\n",
    "def get_config():\n",
    "    global _config # Изменение скоупа\n",
    "    if not _config:\n",
    "        with open('config.json','r') as f:\n",
    "            _config = json.load(f)\n",
    "    return _config\n"
   ]
  },
  {
   "cell_type": "code",
   "execution_count": 24,
   "metadata": {
    "collapsed": false
   },
   "outputs": [
    {
     "data": {
      "text/plain": [
       "{'host': 'localhost',\n",
       " 'transports': {'SSH': {'login': 'root', 'password': 'pwd', 'port': 22022}}}"
      ]
     },
     "execution_count": 24,
     "metadata": {},
     "output_type": "execute_result"
    }
   ],
   "source": [
    "#from blalba import get_config\n",
    "get_config()"
   ]
  },
  {
   "cell_type": "markdown",
   "metadata": {},
   "source": [
    "Десериализация не произвоится каждый раз. Инстанс доступен в рамках всей программы. С ресурсами идея та же, но нужно быть внимательным  \n",
    "\n",
    "1. Не заыбвать закрывать открытые ресурсы.\n",
    "2. В многопоточных приложениях, лучше использовать pooling"
   ]
  },
  {
   "cell_type": "markdown",
   "metadata": {},
   "source": [
    "### Importlib\n",
    "Для работы с импортом модулей программно используется пакет importlib стандартной библиотеки."
   ]
  },
  {
   "cell_type": "code",
   "execution_count": 25,
   "metadata": {
    "collapsed": false
   },
   "outputs": [
    {
     "data": {
      "text/plain": [
       "True"
      ]
     },
     "execution_count": 25,
     "metadata": {},
     "output_type": "execute_result"
    }
   ],
   "source": [
    "import importlib\n",
    "'testmod' in sys.modules.keys()"
   ]
  },
  {
   "cell_type": "code",
   "execution_count": 34,
   "metadata": {
    "collapsed": true
   },
   "outputs": [],
   "source": [
    "del sys.modules['testmod']"
   ]
  },
  {
   "cell_type": "code",
   "execution_count": 30,
   "metadata": {
    "collapsed": false
   },
   "outputs": [
    {
     "name": "stdout",
     "output_type": "stream",
     "text": [
      "Hi I'm test module\n",
      "I'm called\n"
     ]
    }
   ],
   "source": [
    "import testmod"
   ]
  },
  {
   "cell_type": "markdown",
   "metadata": {},
   "source": [
    "Или"
   ]
  },
  {
   "cell_type": "code",
   "execution_count": 31,
   "metadata": {
    "collapsed": false
   },
   "outputs": [
    {
     "name": "stdout",
     "output_type": "stream",
     "text": [
      "Hi I'm test module\n",
      "I'm called\n"
     ]
    },
    {
     "data": {
      "text/plain": [
       "<module 'testmod' from '/var/www/jupyter/prod/cmpl/ptpy-part2/testmod.py'>"
      ]
     },
     "execution_count": 31,
     "metadata": {},
     "output_type": "execute_result"
    }
   ],
   "source": [
    "importlib.reload(testmod)"
   ]
  },
  {
   "cell_type": "markdown",
   "metadata": {},
   "source": [
    "Импорт во время рантайма будет выглядить так"
   ]
  },
  {
   "cell_type": "code",
   "execution_count": 35,
   "metadata": {
    "collapsed": false
   },
   "outputs": [
    {
     "name": "stdout",
     "output_type": "stream",
     "text": [
      "Hi I'm test module\n",
      "I'm called\n"
     ]
    }
   ],
   "source": [
    "mod = importlib.import_module('testmod')"
   ]
  },
  {
   "cell_type": "code",
   "execution_count": 38,
   "metadata": {
    "collapsed": false
   },
   "outputs": [
    {
     "data": {
      "text/plain": [
       "<module 'testmod' from '/var/www/jupyter/prod/cmpl/ptpy-part2/testmod.py'>"
      ]
     },
     "execution_count": 38,
     "metadata": {},
     "output_type": "execute_result"
    }
   ],
   "source": [
    "mod"
   ]
  },
  {
   "cell_type": "markdown",
   "metadata": {},
   "source": [
    "Более сложная структура"
   ]
  },
  {
   "cell_type": "code",
   "execution_count": null,
   "metadata": {
    "collapsed": true
   },
   "outputs": [],
   "source": []
  },
  {
   "cell_type": "code",
   "execution_count": 39,
   "metadata": {
    "collapsed": false
   },
   "outputs": [
    {
     "name": "stdout",
     "output_type": "stream",
     "text": [
      "Package imported\n",
      "module imported\n"
     ]
    },
    {
     "data": {
      "text/plain": [
       "<module 'impex.mdl' from '/var/www/jupyter/prod/cmpl/ptpy-part2/impex/mdl.py'>"
      ]
     },
     "execution_count": 39,
     "metadata": {},
     "output_type": "execute_result"
    }
   ],
   "source": [
    "md = importlib.import_module('impex.mdl')\n",
    "md"
   ]
  },
  {
   "cell_type": "code",
   "execution_count": 40,
   "metadata": {
    "collapsed": false
   },
   "outputs": [
    {
     "data": {
      "text/plain": [
       "<module 'impex.mdl' from '/var/www/jupyter/prod/cmpl/ptpy-part2/impex/mdl.py'>"
      ]
     },
     "execution_count": 40,
     "metadata": {},
     "output_type": "execute_result"
    }
   ],
   "source": [
    "importlib.import_module('.mdl',package='impex')"
   ]
  },
  {
   "cell_type": "code",
   "execution_count": null,
   "metadata": {
    "collapsed": true
   },
   "outputs": [],
   "source": []
  }
 ],
 "metadata": {
  "kernelspec": {
   "display_name": "Python 3",
   "language": "python",
   "name": "python3"
  },
  "language_info": {
   "codemirror_mode": {
    "name": "ipython",
    "version": 3
   },
   "file_extension": ".py",
   "mimetype": "text/x-python",
   "name": "python",
   "nbconvert_exporter": "python",
   "pygments_lexer": "ipython3",
   "version": "3.4.3"
  },
  "varInspector": {
   "cols": {
    "lenName": 16,
    "lenType": 16,
    "lenVar": 40
   },
   "kernels_config": {
    "python": {
     "delete_cmd_postfix": "",
     "delete_cmd_prefix": "del ",
     "library": "var_list.py",
     "varRefreshCmd": "print(var_dic_list())"
    },
    "r": {
     "delete_cmd_postfix": ") ",
     "delete_cmd_prefix": "rm(",
     "library": "var_list.r",
     "varRefreshCmd": "cat(var_dic_list()) "
    }
   },
   "types_to_exclude": [
    "module",
    "function",
    "builtin_function_or_method",
    "instance",
    "_Feature"
   ],
   "window_display": false
  }
 },
 "nbformat": 4,
 "nbformat_minor": 2
}
